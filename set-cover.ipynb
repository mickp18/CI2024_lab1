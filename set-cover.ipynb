{
 "cells": [
  {
   "cell_type": "markdown",
   "metadata": {},
   "source": [
    "Copyright **`(c)`** 2024 Giovanni Squillero `<giovanni.squillero@polito.it>`  \n",
    "[`https://github.com/squillero/computational-intelligence`](https://github.com/squillero/computational-intelligence)  \n",
    "Free for personal or classroom use; see [`LICENSE.md`](https://github.com/squillero/computational-intelligence/blob/master/LICENSE.md) for details.  "
   ]
  },
  {
   "cell_type": "markdown",
   "metadata": {},
   "source": [
    "# Set Cover problem\n",
    "\n",
    "See: https://en.wikipedia.org/wiki/Set_cover_problem"
   ]
  },
  {
   "cell_type": "code",
   "execution_count": 53,
   "metadata": {},
   "outputs": [],
   "source": [
    "from random import random, seed\n",
    "from itertools import product\n",
    "import numpy as np\n",
    "\n",
    "from icecream import ic"
   ]
  },
  {
   "cell_type": "markdown",
   "metadata": {},
   "source": [
    "## Reproducible Initialization\n",
    "\n",
    "If you want to get reproducible results, use `rng` (and restart the kernel); for non-reproducible ones, use `np.random`."
   ]
  },
  {
   "cell_type": "code",
   "execution_count": 54,
   "metadata": {},
   "outputs": [],
   "source": [
    "UNIVERSE_SIZE = 10000\n",
    "NUM_SETS = 1000\n",
    "DENSITY = 0.2\n",
    "\n",
    "MAX_STEPS = 10000\n",
    "rng = np.random.Generator(np.random.PCG64([UNIVERSE_SIZE, NUM_SETS, int(NUM_SETS * DENSITY)]))"
   ]
  },
  {
   "cell_type": "code",
   "execution_count": 55,
   "metadata": {},
   "outputs": [],
   "source": [
    "# DON'T EDIT THESE LINES!\n",
    "\n",
    "SETS = np.random.random((NUM_SETS, UNIVERSE_SIZE)) < DENSITY\n",
    "for s in range(UNIVERSE_SIZE):\n",
    "    if not np.any(SETS[:, s]):\n",
    "        SETS[np.random.randint(NUM_SETS), s] = True\n",
    "COSTS = np.pow(SETS.sum(axis=1), 1.1)"
   ]
  },
  {
   "cell_type": "markdown",
   "metadata": {},
   "source": [
    "## Helper Functions"
   ]
  },
  {
   "cell_type": "code",
   "execution_count": 56,
   "metadata": {},
   "outputs": [],
   "source": [
    "def valid(solution):\n",
    "    \"\"\"Checks wether solution is valid (ie. covers all universe)\"\"\"\n",
    "    return np.all(np.logical_or.reduce(SETS[solution]))\n",
    "\n",
    "\n",
    "def cost(solution):\n",
    "    \"\"\"Returns the cost of a solution (to be minimized)\"\"\"\n",
    "    return COSTS[solution].sum()"
   ]
  },
  {
   "cell_type": "markdown",
   "metadata": {},
   "source": [
    "## Have Fun!"
   ]
  },
  {
   "cell_type": "code",
   "execution_count": 57,
   "metadata": {},
   "outputs": [
    {
     "data": {
      "text/plain": [
       "(np.True_, np.float64(33798.52535937197))"
      ]
     },
     "execution_count": 57,
     "metadata": {},
     "output_type": "execute_result"
    }
   ],
   "source": [
    "# A dumb solution of \"all\" sets\n",
    "solution = np.full(NUM_SETS, True)\n",
    "valid(solution), cost(solution)"
   ]
  },
  {
   "cell_type": "code",
   "execution_count": 58,
   "metadata": {},
   "outputs": [],
   "source": [
    "# A random solution with random 50% of the sets\n",
    "#solution = rng.random(NUM_SETS) < .5\n",
    "#valid(solution), cost(solution)"
   ]
  },
  {
   "cell_type": "code",
   "execution_count": 59,
   "metadata": {},
   "outputs": [],
   "source": [
    "#rng."
   ]
  },
  {
   "cell_type": "code",
   "execution_count": 60,
   "metadata": {},
   "outputs": [
    {
     "name": "stderr",
     "output_type": "stream",
     "text": [
      "ic| steps: 18\n",
      "    cost(current_solution): np.float64(33798.52535937197)\n",
      "    cost(new_solution): np.float64(10155.063953195726)\n",
      "ic| steps: 166\n",
      "    cost(current_solution): np.float64(10155.063953195726)\n",
      "    cost(new_solution): np.float64(9512.675098783142)\n",
      "ic| steps: 924\n",
      "    cost(current_solution): np.float64(9512.675098783142)\n",
      "    cost(new_solution): np.float64(9264.940116264666)\n",
      "ic| steps: 955\n",
      "    cost(current_solution): np.float64(9264.940116264666)\n",
      "    cost(new_solution): np.float64(9006.958609191997)\n",
      "ic| steps: 977\n",
      "    cost(current_solution): np.float64(9006.958609191997)\n",
      "    cost(new_solution): np.float64(8930.436458481114)\n",
      "ic| steps: 996\n",
      "    cost(current_solution): np.float64(8930.436458481114)\n",
      "    cost(new_solution): np.float64(8497.319751745123)\n",
      "ic| steps: 1496\n",
      "    cost(current_solution): np.float64(8497.319751745123)\n",
      "    cost(new_solution): np.float64(8216.29030643167)\n",
      "ic| steps: 1810\n",
      "    cost(current_solution): np.float64(8216.29030643167)\n",
      "    cost(new_solution): np.float64(7847.134274332379)\n"
     ]
    },
    {
     "data": {
      "text/plain": [
       "(np.True_, np.float64(7847.134274332379))"
      ]
     },
     "execution_count": 60,
     "metadata": {},
     "output_type": "execute_result"
    }
   ],
   "source": [
    "current_solution = solution\n",
    "\n",
    "steps =  0\n",
    "for n in range(MAX_STEPS):\n",
    "    \n",
    "    steps += 1\n",
    "    #tweak\n",
    "  \n",
    "    new_solution = solution.copy()\n",
    "    #index = np.random.randint(0, NUM_SETS)\n",
    "    #new_solution[index] = not new_solution[index]\n",
    "    new_solution = rng.random(NUM_SETS) < .2\n",
    "\n",
    "    if(valid(new_solution) and cost(new_solution) < cost(current_solution)):\n",
    "        ic(steps, cost(current_solution), cost(new_solution))\n",
    "        current_solution = new_solution\n",
    "\n",
    "\n",
    "\n",
    "\n",
    "\n",
    "valid(current_solution), cost(current_solution)"
   ]
  }
 ],
 "metadata": {
  "kernelspec": {
   "display_name": "venv",
   "language": "python",
   "name": "python3"
  },
  "language_info": {
   "codemirror_mode": {
    "name": "ipython",
    "version": 3
   },
   "file_extension": ".py",
   "mimetype": "text/x-python",
   "name": "python",
   "nbconvert_exporter": "python",
   "pygments_lexer": "ipython3",
   "version": "3.12.7"
  }
 },
 "nbformat": 4,
 "nbformat_minor": 4
}
